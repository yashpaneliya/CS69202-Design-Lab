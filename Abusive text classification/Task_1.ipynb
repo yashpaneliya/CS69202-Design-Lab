{
  "nbformat": 4,
  "nbformat_minor": 0,
  "metadata": {
    "colab": {
      "provenance": []
    },
    "kernelspec": {
      "name": "python3",
      "display_name": "Python 3"
    },
    "language_info": {
      "name": "python"
    }
  },
  "cells": [
    {
      "cell_type": "code",
      "source": [
        "from google.colab import drive\n",
        "drive.mount('/content/drive')"
      ],
      "metadata": {
        "colab": {
          "base_uri": "https://localhost:8080/"
        },
        "id": "qwyCyOakwmJR",
        "outputId": "d1bc80ff-ac5d-4dca-80e7-284a592c2a55"
      },
      "execution_count": 1,
      "outputs": [
        {
          "output_type": "stream",
          "name": "stdout",
          "text": [
            "Mounted at /content/drive\n"
          ]
        }
      ]
    },
    {
      "cell_type": "code",
      "source": [
        "import pandas as pd\n",
        "import numpy as np\n",
        "import seaborn as sns\n",
        "import matplotlib.pyplot as plt\n",
        "\n",
        "import re\n",
        "import string\n",
        "import nltk\n",
        "from nltk.corpus import stopwords\n",
        "from nltk.tokenize import word_tokenize\n",
        "\n",
        "from wordcloud import WordCloud\n",
        "\n",
        "from sklearn.feature_extraction.text import CountVectorizer\n",
        "from sklearn.feature_extraction.text import TfidfVectorizer\n",
        "\n",
        "from sklearn.model_selection import cross_val_score\n",
        "from sklearn.model_selection import train_test_split\n",
        "from sklearn import metrics\n",
        "from sklearn.metrics import classification_report, accuracy_score\n",
        "from sklearn.metrics import confusion_matrix\n",
        "\n",
        "from sklearn.neighbors import KNeighborsClassifier\n",
        "from sklearn.metrics import f1_score"
      ],
      "metadata": {
        "id": "EqpvjAQHxEyM"
      },
      "execution_count": 2,
      "outputs": []
    },
    {
      "cell_type": "code",
      "source": [
        "nltk.download('punkt')\n",
        "nltk.download('stopwords')"
      ],
      "metadata": {
        "colab": {
          "base_uri": "https://localhost:8080/"
        },
        "id": "BLGA42xGLbtQ",
        "outputId": "7724c7cc-72fe-44b3-a58e-786540a42c17"
      },
      "execution_count": 3,
      "outputs": [
        {
          "output_type": "stream",
          "name": "stderr",
          "text": [
            "[nltk_data] Downloading package punkt to /root/nltk_data...\n",
            "[nltk_data]   Unzipping tokenizers/punkt.zip.\n",
            "[nltk_data] Downloading package stopwords to /root/nltk_data...\n",
            "[nltk_data]   Unzipping corpora/stopwords.zip.\n"
          ]
        },
        {
          "output_type": "execute_result",
          "data": {
            "text/plain": [
              "True"
            ]
          },
          "metadata": {},
          "execution_count": 3
        }
      ]
    },
    {
      "cell_type": "code",
      "source": [
        "stop_words = ['हूँ', 'हो','हूं', 'मैं','में','तू', 'है', 'हैं','अथव', 'अद', 'अध', 'अन', 'अपन', 'अभ', 'अल', 'आग', 'आद', 'आपक', 'इत', 'इतय', 'इनक', 'इनस', 'इसक', 'इसम', 'इसल', 'उनक', 'उनस', 'उसक', 'एव', 'ऐस', 'कभ', 'करत', 'करन', 'कह', 'कहत', 'गय', 'जबक', 'जर', 'जह', 'झक', 'तथ', 'तन', 'तर', 'दब', 'दर', 'दव', 'धर', 'नक', 'नस', 'नह', 'पड', 'पहल', 'बड', 'बन', 'बह', 'यत', 'यद', 'यम', 'रख', 'रत', 'रव', 'रह', 'रहत', 'लक', 'वग', 'वय', 'वर', 'वग़', 'सक', 'सकत', 'सबस', 'सभ', 'सम', 'सर', 'सस', 'हमन', 'हर', 'था', 'दें', 'थी','ले', 'लो', 'थे', 'होगा', 'होगी', 'होंगे', 'ख़ास', 'बहुत', 'बार', 'वाले', 'वाली', 'वाला', 'जब', 'जहाँ', 'जा', 'जिस', 'जिन्हें', 'जिन्हों', 'जिसे', 'जिसका', 'जिसकी','जिसके', 'जिसमें', 'जिधर', 'के', 'का', 'की', 'को', 'कि', 'इस', 'उस', 'उसे', 'उन', 'उन्हें', 'उन्हों', 'उनका', 'उनकी', 'उनके','उनसे', 'अपना', 'अपनी', 'अपने', 'आदि', 'इत्यादि', 'इन्हें', 'इन्हों', 'इनका', 'इनकी', 'इनके', 'इनसे', 'जैसा', 'जैसे','अंदर', 'अत', 'अदि', 'अप', 'अपना', 'अपनि', 'अपनी', 'अपने', 'अभि', 'अभी', 'आदि', 'आप', 'इंहिं', 'इंहें', 'इंहों', 'इतयादि', 'इत्यादि', 'इन', 'इनका', 'इन्हीं', 'इन्हें', 'इन्हों', 'इस', 'इसका', 'इसकि', 'इसकी', 'इसके', 'इसमें', 'इसि', 'इसी', 'इसे', 'उंहिं', 'उंहें', 'उंहों', 'उन', 'उनका', 'उनकि', 'उनकी', 'उनके', 'उनको', 'उन्हीं', 'उन्हें', 'उन्हों', 'उस', 'उसके', 'उसि', 'उसी', 'उसे', 'एक', 'एवं', 'एस', 'एसे', 'ऐसे', 'ओर', 'और', 'कइ', 'कई', 'कर', 'करता', 'करते', 'करना', 'करने', 'करें', 'कहते', 'कहा', 'का', 'काफि', 'काफ़ी', 'कि', 'किंहें', 'किंहों', 'कितना', 'किन्हें', 'किन्हों', 'किया', 'किर', 'किस', 'किसि', 'किसी', 'किसे', 'की', 'कुछ', 'कुल', 'के', 'को', 'कोइ', 'कोई', 'कोन', 'कोनसा', 'कौन', 'कौनसा', 'गया', 'घर', 'जब', 'जहाँ', 'जहां', 'जा', 'जिंहें', 'जिंहों', 'जितना', 'जिधर', 'जिन', 'जिन्हें', 'जिन्हों', 'जिस', 'जिसे', 'जीधर', 'जेसा', 'जेसे', 'जैसा', 'जैसे' , 'तैसा', 'तैसे', 'इसलिए', 'इसके अलावा', 'फिर', 'अगर', 'कि', 'की', 'के बारे में', 'किसी तरह', 'कोई', 'कुछ', 'कुल','जितना', 'तक', 'तो', 'थी', 'थे', 'था', 'ने', 'पर', 'जा', 'जो', 'सबसे', 'संग','से', 'तक', 'साथ', 'ही', 'हुआ', 'हुई', 'हुए', 'होता', 'होती', 'ह']\n",
        "# remove duplicate stop words\n",
        "stop_set = set()\n",
        "for word in stop_words:\n",
        "  stop_set.add(word)\n",
        "print(\"No. of stop words: \", len(stop_set))"
      ],
      "metadata": {
        "colab": {
          "base_uri": "https://localhost:8080/"
        },
        "id": "TXAfTNYE4S3b",
        "outputId": "bc03fbad-9287-4776-c4ef-f95573410102"
      },
      "execution_count": 4,
      "outputs": [
        {
          "output_type": "stream",
          "name": "stdout",
          "text": [
            "No. of stop words:  235\n"
          ]
        }
      ]
    },
    {
      "cell_type": "code",
      "source": [
        "with open('/content/drive/MyDrive/Colab Notebooks/final_stopwords.txt', 'r', encoding='utf8') as file:\n",
        "    for line in file:\n",
        "        word = line.strip()  # remove newline character from the end of the line\n",
        "        stop_set.add(word)  # add the word to the set\n",
        "print(\"No. of stop words: \", len(stop_set))"
      ],
      "metadata": {
        "id": "EbhhkJbdLNx0",
        "colab": {
          "base_uri": "https://localhost:8080/"
        },
        "outputId": "395039a1-1c2b-44bc-f111-c9b89e016062"
      },
      "execution_count": 5,
      "outputs": [
        {
          "output_type": "stream",
          "name": "stdout",
          "text": [
            "No. of stop words:  422\n"
          ]
        }
      ]
    },
    {
      "cell_type": "code",
      "source": [
        "def remove_stopwords_hindi(text):\n",
        "    tokens = word_tokenize(text)\n",
        "    # print(tokens)\n",
        "    filtered_tokens = [word for word in tokens if word not in stop_set]\n",
        "    filtered_text = ' '.join(filtered_tokens)\n",
        "    return filtered_text\n",
        "\n",
        "def remove_stopwords_english(text):\n",
        "    tokens = word_tokenize(text)\n",
        "    # print(tokens)\n",
        "    filtered_tokens = [word for word in tokens if word not in set(stopwords.words('english'))]\n",
        "    filtered_text = ' '.join(filtered_tokens)\n",
        "    return filtered_text"
      ],
      "metadata": {
        "id": "rofZQ7rVKJLk"
      },
      "execution_count": 6,
      "outputs": []
    },
    {
      "cell_type": "code",
      "source": [
        "# removing punctuations\n",
        "def remove_punctuations(text):\n",
        "    text = re.sub('[%s]' % re.escape(string.punctuation), ' ', text)\n",
        "    return text"
      ],
      "metadata": {
        "id": "CEr7dOV8OUeD"
      },
      "execution_count": 7,
      "outputs": []
    },
    {
      "cell_type": "code",
      "source": [
        "# # tokenize and check unique words\n",
        "def tokenize_unique_save(col):\n",
        "  unique = set()\n",
        "  for cell in col:\n",
        "    tokens = word_tokenize(cell)\n",
        "    for token in tokens:\n",
        "      unique.add(token)\n",
        "  return unique\n",
        "\n",
        "# unique_list = list()\n",
        "# with open('/content/drive/MyDrive/Colab Notebooks/unique.txt', 'w') as file:\n",
        "#   for word in tokenize_unique_save(df['text']):\n",
        "#     file.write(str(word)+'\\n')\n",
        "#   file.close()\n",
        "\n",
        "# print(tokenize_unique_save(df['text']))"
      ],
      "metadata": {
        "id": "bmI_DX9C0Jkr"
      },
      "execution_count": 8,
      "outputs": []
    },
    {
      "cell_type": "code",
      "source": [
        "!pip install indic_transliteration emot"
      ],
      "metadata": {
        "id": "BP0ejfUhvuyE",
        "colab": {
          "base_uri": "https://localhost:8080/"
        },
        "outputId": "8a67e100-5534-4f79-8468-461d005c777e"
      },
      "execution_count": 9,
      "outputs": [
        {
          "output_type": "stream",
          "name": "stdout",
          "text": [
            "Looking in indexes: https://pypi.org/simple, https://us-python.pkg.dev/colab-wheels/public/simple/\n",
            "Collecting indic_transliteration\n",
            "  Downloading indic_transliteration-2.3.44-py3-none-any.whl (143 kB)\n",
            "\u001b[2K     \u001b[90m━━━━━━━━━━━━━━━━━━━━━━━━━━━━━━━━━━━━━━━\u001b[0m \u001b[32m143.3/143.3 kB\u001b[0m \u001b[31m2.5 MB/s\u001b[0m eta \u001b[36m0:00:00\u001b[0m\n",
            "\u001b[?25hCollecting emot\n",
            "  Downloading emot-3.1-py3-none-any.whl (61 kB)\n",
            "\u001b[2K     \u001b[90m━━━━━━━━━━━━━━━━━━━━━━━━━━━━━━━━━━━━━━━━\u001b[0m \u001b[32m61.5/61.5 kB\u001b[0m \u001b[31m6.5 MB/s\u001b[0m eta \u001b[36m0:00:00\u001b[0m\n",
            "\u001b[?25hCollecting backports.functools-lru-cache\n",
            "  Downloading backports.functools_lru_cache-1.6.4-py2.py3-none-any.whl (5.9 kB)\n",
            "Requirement already satisfied: typer in /usr/local/lib/python3.9/dist-packages (from indic_transliteration) (0.7.0)\n",
            "Requirement already satisfied: regex in /usr/local/lib/python3.9/dist-packages (from indic_transliteration) (2022.10.31)\n",
            "Requirement already satisfied: toml in /usr/local/lib/python3.9/dist-packages (from indic_transliteration) (0.10.2)\n",
            "Collecting roman\n",
            "  Downloading roman-4.0-py3-none-any.whl (7.8 kB)\n",
            "Requirement already satisfied: click<9.0.0,>=7.1.1 in /usr/local/lib/python3.9/dist-packages (from typer->indic_transliteration) (8.1.3)\n",
            "Installing collected packages: emot, roman, backports.functools-lru-cache, indic_transliteration\n",
            "Successfully installed backports.functools-lru-cache-1.6.4 emot-3.1 indic_transliteration-2.3.44 roman-4.0\n"
          ]
        }
      ]
    },
    {
      "cell_type": "code",
      "source": [
        "from indic_transliteration import sanscript\n",
        "from indic_transliteration.sanscript import transliterate\n",
        "\n",
        "# Define preprocessing functions\n",
        "def preprocess_hindi_text(text):\n",
        "    # Remove unnecessary symbols\n",
        "    text = re.sub(r'[^\\u0900-\\u097F\\s]', '', text)\n",
        "    # Remove extra spaces\n",
        "    text = re.sub(r'\\s+', ' ', text)\n",
        "    # Remove leading/trailing spaces\n",
        "    text = text.strip()\n",
        "    # Convert to lowercase\n",
        "    text = text.lower()\n",
        "    return text\n",
        "\n",
        "def transliterate_hindi(text):\n",
        "    # Transliterate Hindi text to English\n",
        "    english_text = transliterate(text, sanscript.DEVANAGARI, sanscript.ITRANS)\n",
        "    return english_text.lower()\n",
        "\n",
        "import unicodedata\n",
        "\n",
        "def extract_emojis(text):\n",
        "    # Extract emojis from text\n",
        "    emojis = ''.join(c for c in text if c in ''.join(chr(i) for i in range(0x1F300, 0x1F6FF+1)))\n",
        "    return emojis\n",
        "\n",
        "def extract_raw_english(text):\n",
        "    # Remove unnecessary symbols\n",
        "    text = re.sub(r'[^a-z^A-Z]', '', text)\n",
        "    # Remove extra spaces\n",
        "    text = re.sub(r'\\s+', ' ', text)\n",
        "    # Remove leading/trailing spaces\n",
        "    text = text.strip()\n",
        "    # Convert to lowercase\n",
        "    text = text.lower()\n",
        "    return text"
      ],
      "metadata": {
        "id": "Mq5PTr2O90J2"
      },
      "execution_count": 10,
      "outputs": []
    },
    {
      "cell_type": "code",
      "source": [
        "from emot.emo_unicode import UNICODE_EMOJI\n",
        " # Function for converting emojis into word\n",
        "def convert_emojis(text):\n",
        "    for e in UNICODE_EMOJI:\n",
        "        text = text.replace(e, (UNICODE_EMOJI[e]+' ').replace(':',''))\n",
        "    return text\n",
        "\n",
        "convert_emojis('😍😎👸👈🎠👫👸👈👗💃👀👩😋😍👈👸👰 पगली बहोत शोकीन तुजे डोली बिठाके लेके तेरे कपड़...')"
      ],
      "metadata": {
        "id": "ZRU8HSS4GFLu",
        "colab": {
          "base_uri": "https://localhost:8080/",
          "height": 70
        },
        "outputId": "d7e7206c-d35c-4657-df74-b282498491c1"
      },
      "execution_count": 11,
      "outputs": [
        {
          "output_type": "execute_result",
          "data": {
            "text/plain": [
              "'smiling_face_with_heart-eyes smiling_face_with_sunglasses princess backhand_index_pointing_left carousel_horse woman_and_man_holding_hands princess backhand_index_pointing_left dress woman_dancing eyes woman face_savoring_food smiling_face_with_heart-eyes backhand_index_pointing_left princess person_with_veil  पगली बहोत शोकीन तुजे डोली बिठाके लेके तेरे कपड़...'"
            ],
            "application/vnd.google.colaboratory.intrinsic+json": {
              "type": "string"
            }
          },
          "metadata": {},
          "execution_count": 11
        }
      ]
    },
    {
      "cell_type": "code",
      "source": [],
      "metadata": {
        "id": "OydbaRKScIqe"
      },
      "execution_count": 11,
      "outputs": []
    },
    {
      "cell_type": "code",
      "source": [
        "df = pd.read_csv('/content/drive/MyDrive/Colab Notebooks/abusive_text.csv')\n",
        "df.head()"
      ],
      "metadata": {
        "colab": {
          "base_uri": "https://localhost:8080/",
          "height": 206
        },
        "id": "h2eUSc_EtFuK",
        "outputId": "7612fc41-d531-4650-bbbe-12cf9a31ad35"
      },
      "execution_count": 12,
      "outputs": [
        {
          "output_type": "execute_result",
          "data": {
            "text/plain": [
              "   label                                       text\n",
              "0      0              भीड़ में  बहुत  हब्सी मिलेंगे\n",
              "1      0  साले बेवकूफ अपनी मां मक्खियां  तो हटा दें\n",
              "2      0           बुर देदो तो मुह में लंड ले लो तो\n",
              "3      0       कुत्ता वहा है चिल्ला तू क्यों रहा है\n",
              "4      1  चाय नहीं पीता हूं मैं इसी को छोड़ दिया ok"
            ],
            "text/html": [
              "\n",
              "  <div id=\"df-9762affb-f2ea-4e2d-aaa4-01b304adc70a\">\n",
              "    <div class=\"colab-df-container\">\n",
              "      <div>\n",
              "<style scoped>\n",
              "    .dataframe tbody tr th:only-of-type {\n",
              "        vertical-align: middle;\n",
              "    }\n",
              "\n",
              "    .dataframe tbody tr th {\n",
              "        vertical-align: top;\n",
              "    }\n",
              "\n",
              "    .dataframe thead th {\n",
              "        text-align: right;\n",
              "    }\n",
              "</style>\n",
              "<table border=\"1\" class=\"dataframe\">\n",
              "  <thead>\n",
              "    <tr style=\"text-align: right;\">\n",
              "      <th></th>\n",
              "      <th>label</th>\n",
              "      <th>text</th>\n",
              "    </tr>\n",
              "  </thead>\n",
              "  <tbody>\n",
              "    <tr>\n",
              "      <th>0</th>\n",
              "      <td>0</td>\n",
              "      <td>भीड़ में  बहुत  हब्सी मिलेंगे</td>\n",
              "    </tr>\n",
              "    <tr>\n",
              "      <th>1</th>\n",
              "      <td>0</td>\n",
              "      <td>साले बेवकूफ अपनी मां मक्खियां  तो हटा दें</td>\n",
              "    </tr>\n",
              "    <tr>\n",
              "      <th>2</th>\n",
              "      <td>0</td>\n",
              "      <td>बुर देदो तो मुह में लंड ले लो तो</td>\n",
              "    </tr>\n",
              "    <tr>\n",
              "      <th>3</th>\n",
              "      <td>0</td>\n",
              "      <td>कुत्ता वहा है चिल्ला तू क्यों रहा है</td>\n",
              "    </tr>\n",
              "    <tr>\n",
              "      <th>4</th>\n",
              "      <td>1</td>\n",
              "      <td>चाय नहीं पीता हूं मैं इसी को छोड़ दिया ok</td>\n",
              "    </tr>\n",
              "  </tbody>\n",
              "</table>\n",
              "</div>\n",
              "      <button class=\"colab-df-convert\" onclick=\"convertToInteractive('df-9762affb-f2ea-4e2d-aaa4-01b304adc70a')\"\n",
              "              title=\"Convert this dataframe to an interactive table.\"\n",
              "              style=\"display:none;\">\n",
              "        \n",
              "  <svg xmlns=\"http://www.w3.org/2000/svg\" height=\"24px\"viewBox=\"0 0 24 24\"\n",
              "       width=\"24px\">\n",
              "    <path d=\"M0 0h24v24H0V0z\" fill=\"none\"/>\n",
              "    <path d=\"M18.56 5.44l.94 2.06.94-2.06 2.06-.94-2.06-.94-.94-2.06-.94 2.06-2.06.94zm-11 1L8.5 8.5l.94-2.06 2.06-.94-2.06-.94L8.5 2.5l-.94 2.06-2.06.94zm10 10l.94 2.06.94-2.06 2.06-.94-2.06-.94-.94-2.06-.94 2.06-2.06.94z\"/><path d=\"M17.41 7.96l-1.37-1.37c-.4-.4-.92-.59-1.43-.59-.52 0-1.04.2-1.43.59L10.3 9.45l-7.72 7.72c-.78.78-.78 2.05 0 2.83L4 21.41c.39.39.9.59 1.41.59.51 0 1.02-.2 1.41-.59l7.78-7.78 2.81-2.81c.8-.78.8-2.07 0-2.86zM5.41 20L4 18.59l7.72-7.72 1.47 1.35L5.41 20z\"/>\n",
              "  </svg>\n",
              "      </button>\n",
              "      \n",
              "  <style>\n",
              "    .colab-df-container {\n",
              "      display:flex;\n",
              "      flex-wrap:wrap;\n",
              "      gap: 12px;\n",
              "    }\n",
              "\n",
              "    .colab-df-convert {\n",
              "      background-color: #E8F0FE;\n",
              "      border: none;\n",
              "      border-radius: 50%;\n",
              "      cursor: pointer;\n",
              "      display: none;\n",
              "      fill: #1967D2;\n",
              "      height: 32px;\n",
              "      padding: 0 0 0 0;\n",
              "      width: 32px;\n",
              "    }\n",
              "\n",
              "    .colab-df-convert:hover {\n",
              "      background-color: #E2EBFA;\n",
              "      box-shadow: 0px 1px 2px rgba(60, 64, 67, 0.3), 0px 1px 3px 1px rgba(60, 64, 67, 0.15);\n",
              "      fill: #174EA6;\n",
              "    }\n",
              "\n",
              "    [theme=dark] .colab-df-convert {\n",
              "      background-color: #3B4455;\n",
              "      fill: #D2E3FC;\n",
              "    }\n",
              "\n",
              "    [theme=dark] .colab-df-convert:hover {\n",
              "      background-color: #434B5C;\n",
              "      box-shadow: 0px 1px 3px 1px rgba(0, 0, 0, 0.15);\n",
              "      filter: drop-shadow(0px 1px 2px rgba(0, 0, 0, 0.3));\n",
              "      fill: #FFFFFF;\n",
              "    }\n",
              "  </style>\n",
              "\n",
              "      <script>\n",
              "        const buttonEl =\n",
              "          document.querySelector('#df-9762affb-f2ea-4e2d-aaa4-01b304adc70a button.colab-df-convert');\n",
              "        buttonEl.style.display =\n",
              "          google.colab.kernel.accessAllowed ? 'block' : 'none';\n",
              "\n",
              "        async function convertToInteractive(key) {\n",
              "          const element = document.querySelector('#df-9762affb-f2ea-4e2d-aaa4-01b304adc70a');\n",
              "          const dataTable =\n",
              "            await google.colab.kernel.invokeFunction('convertToInteractive',\n",
              "                                                     [key], {});\n",
              "          if (!dataTable) return;\n",
              "\n",
              "          const docLinkHtml = 'Like what you see? Visit the ' +\n",
              "            '<a target=\"_blank\" href=https://colab.research.google.com/notebooks/data_table.ipynb>data table notebook</a>'\n",
              "            + ' to learn more about interactive tables.';\n",
              "          element.innerHTML = '';\n",
              "          dataTable['output_type'] = 'display_data';\n",
              "          await google.colab.output.renderOutput(dataTable, element);\n",
              "          const docLink = document.createElement('div');\n",
              "          docLink.innerHTML = docLinkHtml;\n",
              "          element.appendChild(docLink);\n",
              "        }\n",
              "      </script>\n",
              "    </div>\n",
              "  </div>\n",
              "  "
            ]
          },
          "metadata": {},
          "execution_count": 12
        }
      ]
    },
    {
      "cell_type": "code",
      "source": [
        "############################################################################# START PRE_PROCESSING ###################################################################################\n",
        "\n",
        "# remove punctuation from text\n",
        "df['Clean Text'] = df['text'].apply(remove_punctuations)\n",
        "\n",
        "# convert emoji to text\n",
        "df['Clean Text'] = df['Clean Text'].apply(convert_emojis)\n",
        "\n",
        "# remove digits from text\n",
        "df['Clean Text'] = df['Clean Text'].str.replace('\\d+',' ')\n",
        "\n",
        "# remove stop words from hindi\n",
        "df['Clean Text'] = df['Clean Text'].apply(remove_stopwords_hindi)\n",
        "\n",
        "\n",
        "df['final_text'] = df['Clean Text']\n",
        "\n",
        "df.head(10)"
      ],
      "metadata": {
        "id": "3QvrbOna4Aei",
        "colab": {
          "base_uri": "https://localhost:8080/",
          "height": 441
        },
        "outputId": "99c272ba-eac6-429d-cde1-4791bb57ba38"
      },
      "execution_count": 13,
      "outputs": [
        {
          "output_type": "stream",
          "name": "stderr",
          "text": [
            "<ipython-input-13-8e6f6d8b20a7>:10: FutureWarning: The default value of regex will change from True to False in a future version.\n",
            "  df['Clean Text'] = df['Clean Text'].str.replace('\\d+',' ')\n"
          ]
        },
        {
          "output_type": "execute_result",
          "data": {
            "text/plain": [
              "   label                                               text  \\\n",
              "0      0                      भीड़ में  बहुत  हब्सी मिलेंगे   \n",
              "1      0          साले बेवकूफ अपनी मां मक्खियां  तो हटा दें   \n",
              "2      0                   बुर देदो तो मुह में लंड ले लो तो   \n",
              "3      0               कुत्ता वहा है चिल्ला तू क्यों रहा है   \n",
              "4      1          चाय नहीं पीता हूं मैं इसी को छोड़ दिया ok   \n",
              "5      0  बैंकों से सरकार का रिश्ता दलाली का है, बड़े बड...   \n",
              "6      0  #पगली 😍 हम तो #बहोत 😎 _शोकीन हैं 👸👈 #तुजे डोली...   \n",
              "7      0  ohh my god . यहां इतने सारे चमचे इसका मतलब जलन...   \n",
              "8      1        आप मेरे कमेंट का इतना  इंतजार क्यों करते है   \n",
              "9      0                              भोसड़ी को बात करने दो   \n",
              "\n",
              "                                          Clean Text  \\\n",
              "0                                 भीड़ हब्सी मिलेंगे   \n",
              "1                       साले बेवकूफ मां मक्खियां हटा   \n",
              "2                                   बुर देदो मुह लंड   \n",
              "3                                  कुत्ता वहा चिल्ला   \n",
              "4                                   चाय पीता छोड़ ok   \n",
              "5  बैंकों सरकार रिश्ता दलाली चोरों लोन दिलाने एवज...   \n",
              "6  पगली smiling_face_with_heart-eyes बहोत smiling...   \n",
              "7          ohh my god इतने चमचे मतलब जलनखोरो कमी नही   \n",
              "8                             मेरे कमेंट इतना इंतजार   \n",
              "9                                         भोसड़ी बात   \n",
              "\n",
              "                                          final_text  \n",
              "0                                 भीड़ हब्सी मिलेंगे  \n",
              "1                       साले बेवकूफ मां मक्खियां हटा  \n",
              "2                                   बुर देदो मुह लंड  \n",
              "3                                  कुत्ता वहा चिल्ला  \n",
              "4                                   चाय पीता छोड़ ok  \n",
              "5  बैंकों सरकार रिश्ता दलाली चोरों लोन दिलाने एवज...  \n",
              "6  पगली smiling_face_with_heart-eyes बहोत smiling...  \n",
              "7          ohh my god इतने चमचे मतलब जलनखोरो कमी नही  \n",
              "8                             मेरे कमेंट इतना इंतजार  \n",
              "9                                         भोसड़ी बात  "
            ],
            "text/html": [
              "\n",
              "  <div id=\"df-681b3c89-76c9-41e7-a4aa-417606bb9b84\">\n",
              "    <div class=\"colab-df-container\">\n",
              "      <div>\n",
              "<style scoped>\n",
              "    .dataframe tbody tr th:only-of-type {\n",
              "        vertical-align: middle;\n",
              "    }\n",
              "\n",
              "    .dataframe tbody tr th {\n",
              "        vertical-align: top;\n",
              "    }\n",
              "\n",
              "    .dataframe thead th {\n",
              "        text-align: right;\n",
              "    }\n",
              "</style>\n",
              "<table border=\"1\" class=\"dataframe\">\n",
              "  <thead>\n",
              "    <tr style=\"text-align: right;\">\n",
              "      <th></th>\n",
              "      <th>label</th>\n",
              "      <th>text</th>\n",
              "      <th>Clean Text</th>\n",
              "      <th>final_text</th>\n",
              "    </tr>\n",
              "  </thead>\n",
              "  <tbody>\n",
              "    <tr>\n",
              "      <th>0</th>\n",
              "      <td>0</td>\n",
              "      <td>भीड़ में  बहुत  हब्सी मिलेंगे</td>\n",
              "      <td>भीड़ हब्सी मिलेंगे</td>\n",
              "      <td>भीड़ हब्सी मिलेंगे</td>\n",
              "    </tr>\n",
              "    <tr>\n",
              "      <th>1</th>\n",
              "      <td>0</td>\n",
              "      <td>साले बेवकूफ अपनी मां मक्खियां  तो हटा दें</td>\n",
              "      <td>साले बेवकूफ मां मक्खियां हटा</td>\n",
              "      <td>साले बेवकूफ मां मक्खियां हटा</td>\n",
              "    </tr>\n",
              "    <tr>\n",
              "      <th>2</th>\n",
              "      <td>0</td>\n",
              "      <td>बुर देदो तो मुह में लंड ले लो तो</td>\n",
              "      <td>बुर देदो मुह लंड</td>\n",
              "      <td>बुर देदो मुह लंड</td>\n",
              "    </tr>\n",
              "    <tr>\n",
              "      <th>3</th>\n",
              "      <td>0</td>\n",
              "      <td>कुत्ता वहा है चिल्ला तू क्यों रहा है</td>\n",
              "      <td>कुत्ता वहा चिल्ला</td>\n",
              "      <td>कुत्ता वहा चिल्ला</td>\n",
              "    </tr>\n",
              "    <tr>\n",
              "      <th>4</th>\n",
              "      <td>1</td>\n",
              "      <td>चाय नहीं पीता हूं मैं इसी को छोड़ दिया ok</td>\n",
              "      <td>चाय पीता छोड़ ok</td>\n",
              "      <td>चाय पीता छोड़ ok</td>\n",
              "    </tr>\n",
              "    <tr>\n",
              "      <th>5</th>\n",
              "      <td>0</td>\n",
              "      <td>बैंकों से सरकार का रिश्ता दलाली का है, बड़े बड...</td>\n",
              "      <td>बैंकों सरकार रिश्ता दलाली चोरों लोन दिलाने एवज...</td>\n",
              "      <td>बैंकों सरकार रिश्ता दलाली चोरों लोन दिलाने एवज...</td>\n",
              "    </tr>\n",
              "    <tr>\n",
              "      <th>6</th>\n",
              "      <td>0</td>\n",
              "      <td>#पगली 😍 हम तो #बहोत 😎 _शोकीन हैं 👸👈 #तुजे डोली...</td>\n",
              "      <td>पगली smiling_face_with_heart-eyes बहोत smiling...</td>\n",
              "      <td>पगली smiling_face_with_heart-eyes बहोत smiling...</td>\n",
              "    </tr>\n",
              "    <tr>\n",
              "      <th>7</th>\n",
              "      <td>0</td>\n",
              "      <td>ohh my god . यहां इतने सारे चमचे इसका मतलब जलन...</td>\n",
              "      <td>ohh my god इतने चमचे मतलब जलनखोरो कमी नही</td>\n",
              "      <td>ohh my god इतने चमचे मतलब जलनखोरो कमी नही</td>\n",
              "    </tr>\n",
              "    <tr>\n",
              "      <th>8</th>\n",
              "      <td>1</td>\n",
              "      <td>आप मेरे कमेंट का इतना  इंतजार क्यों करते है</td>\n",
              "      <td>मेरे कमेंट इतना इंतजार</td>\n",
              "      <td>मेरे कमेंट इतना इंतजार</td>\n",
              "    </tr>\n",
              "    <tr>\n",
              "      <th>9</th>\n",
              "      <td>0</td>\n",
              "      <td>भोसड़ी को बात करने दो</td>\n",
              "      <td>भोसड़ी बात</td>\n",
              "      <td>भोसड़ी बात</td>\n",
              "    </tr>\n",
              "  </tbody>\n",
              "</table>\n",
              "</div>\n",
              "      <button class=\"colab-df-convert\" onclick=\"convertToInteractive('df-681b3c89-76c9-41e7-a4aa-417606bb9b84')\"\n",
              "              title=\"Convert this dataframe to an interactive table.\"\n",
              "              style=\"display:none;\">\n",
              "        \n",
              "  <svg xmlns=\"http://www.w3.org/2000/svg\" height=\"24px\"viewBox=\"0 0 24 24\"\n",
              "       width=\"24px\">\n",
              "    <path d=\"M0 0h24v24H0V0z\" fill=\"none\"/>\n",
              "    <path d=\"M18.56 5.44l.94 2.06.94-2.06 2.06-.94-2.06-.94-.94-2.06-.94 2.06-2.06.94zm-11 1L8.5 8.5l.94-2.06 2.06-.94-2.06-.94L8.5 2.5l-.94 2.06-2.06.94zm10 10l.94 2.06.94-2.06 2.06-.94-2.06-.94-.94-2.06-.94 2.06-2.06.94z\"/><path d=\"M17.41 7.96l-1.37-1.37c-.4-.4-.92-.59-1.43-.59-.52 0-1.04.2-1.43.59L10.3 9.45l-7.72 7.72c-.78.78-.78 2.05 0 2.83L4 21.41c.39.39.9.59 1.41.59.51 0 1.02-.2 1.41-.59l7.78-7.78 2.81-2.81c.8-.78.8-2.07 0-2.86zM5.41 20L4 18.59l7.72-7.72 1.47 1.35L5.41 20z\"/>\n",
              "  </svg>\n",
              "      </button>\n",
              "      \n",
              "  <style>\n",
              "    .colab-df-container {\n",
              "      display:flex;\n",
              "      flex-wrap:wrap;\n",
              "      gap: 12px;\n",
              "    }\n",
              "\n",
              "    .colab-df-convert {\n",
              "      background-color: #E8F0FE;\n",
              "      border: none;\n",
              "      border-radius: 50%;\n",
              "      cursor: pointer;\n",
              "      display: none;\n",
              "      fill: #1967D2;\n",
              "      height: 32px;\n",
              "      padding: 0 0 0 0;\n",
              "      width: 32px;\n",
              "    }\n",
              "\n",
              "    .colab-df-convert:hover {\n",
              "      background-color: #E2EBFA;\n",
              "      box-shadow: 0px 1px 2px rgba(60, 64, 67, 0.3), 0px 1px 3px 1px rgba(60, 64, 67, 0.15);\n",
              "      fill: #174EA6;\n",
              "    }\n",
              "\n",
              "    [theme=dark] .colab-df-convert {\n",
              "      background-color: #3B4455;\n",
              "      fill: #D2E3FC;\n",
              "    }\n",
              "\n",
              "    [theme=dark] .colab-df-convert:hover {\n",
              "      background-color: #434B5C;\n",
              "      box-shadow: 0px 1px 3px 1px rgba(0, 0, 0, 0.15);\n",
              "      filter: drop-shadow(0px 1px 2px rgba(0, 0, 0, 0.3));\n",
              "      fill: #FFFFFF;\n",
              "    }\n",
              "  </style>\n",
              "\n",
              "      <script>\n",
              "        const buttonEl =\n",
              "          document.querySelector('#df-681b3c89-76c9-41e7-a4aa-417606bb9b84 button.colab-df-convert');\n",
              "        buttonEl.style.display =\n",
              "          google.colab.kernel.accessAllowed ? 'block' : 'none';\n",
              "\n",
              "        async function convertToInteractive(key) {\n",
              "          const element = document.querySelector('#df-681b3c89-76c9-41e7-a4aa-417606bb9b84');\n",
              "          const dataTable =\n",
              "            await google.colab.kernel.invokeFunction('convertToInteractive',\n",
              "                                                     [key], {});\n",
              "          if (!dataTable) return;\n",
              "\n",
              "          const docLinkHtml = 'Like what you see? Visit the ' +\n",
              "            '<a target=\"_blank\" href=https://colab.research.google.com/notebooks/data_table.ipynb>data table notebook</a>'\n",
              "            + ' to learn more about interactive tables.';\n",
              "          element.innerHTML = '';\n",
              "          dataTable['output_type'] = 'display_data';\n",
              "          await google.colab.output.renderOutput(dataTable, element);\n",
              "          const docLink = document.createElement('div');\n",
              "          docLink.innerHTML = docLinkHtml;\n",
              "          element.appendChild(docLink);\n",
              "        }\n",
              "      </script>\n",
              "    </div>\n",
              "  </div>\n",
              "  "
            ]
          },
          "metadata": {},
          "execution_count": 13
        }
      ]
    },
    {
      "cell_type": "code",
      "source": [
        "# Split dataset into training and validation sets\n",
        "train_df, val_df = train_test_split(df, test_size=0.2)\n",
        "\n",
        "# Convert text data to TF-IDF vectors\n",
        "vectorizer = TfidfVectorizer(sublinear_tf=True, smooth_idf=True)\n",
        "\n",
        "train_X = vectorizer.fit_transform(train_df['final_text'])\n",
        "val_X = vectorizer.transform(val_df['final_text'])\n",
        "\n",
        "# Convert labels to NumPy arrays\n",
        "train_y = np.array(train_df['label'])\n",
        "val_y = np.array(val_df['label'])\n",
        "\n",
        "# Train KNN model on the training set\n",
        "k = 18 # number of neighbors\n",
        "knn = KNeighborsClassifier(n_neighbors=k)\n",
        "knn.fit(train_X, train_y)\n",
        "\n",
        "# Evaluate KNN model on the validation set\n",
        "print(classification_report(val_y, knn.predict(val_X)))"
      ],
      "metadata": {
        "colab": {
          "base_uri": "https://localhost:8080/"
        },
        "outputId": "bed0dfb2-1a92-41b8-d1b1-067cbc8cf27e",
        "id": "yb3Hje8Cct0D"
      },
      "execution_count": 14,
      "outputs": [
        {
          "output_type": "stream",
          "name": "stdout",
          "text": [
            "              precision    recall  f1-score   support\n",
            "\n",
            "           0       0.61      0.86      0.71      2117\n",
            "           1       0.71      0.38      0.50      1920\n",
            "\n",
            "    accuracy                           0.63      4037\n",
            "   macro avg       0.66      0.62      0.60      4037\n",
            "weighted avg       0.66      0.63      0.61      4037\n",
            "\n"
          ]
        }
      ]
    },
    {
      "cell_type": "code",
      "source": [
        "import pickle\n",
        "knnPickle = open('/content/drive/MyDrive/Colab Notebooks/models/knnpickle_file', 'wb') \n",
        "      \n",
        "# source, destination \n",
        "pickle.dump(knn, knnPickle)  \n",
        "\n",
        "# close the file\n",
        "\n",
        "knnPickle.close()"
      ],
      "metadata": {
        "id": "Zv4nPdbwdRai"
      },
      "execution_count": 18,
      "outputs": []
    },
    {
      "cell_type": "code",
      "source": [
        "test_df = pd.read_csv('/content/drive/MyDrive/Colab Notebooks/hindi_test.csv')"
      ],
      "metadata": {
        "id": "ll3ca_C-jzGC"
      },
      "execution_count": 22,
      "outputs": []
    },
    {
      "cell_type": "code",
      "source": [
        "\n",
        "# preprocess data\n",
        "# remove punctuation from text\n",
        "test_df['Clean Text'] = test_df['text'].apply(remove_punctuations)\n",
        "\n",
        "# convert emoji to text\n",
        "test_df['Clean Text'] = test_df['Clean Text'].apply(convert_emojis)\n",
        "\n",
        "# remove digits from text\n",
        "test_df['Clean Text'] = test_df['Clean Text'].str.replace('\\d+',' ')\n",
        "\n",
        "# remove stop words from hindi\n",
        "test_df['Clean Text'] = test_df['Clean Text'].apply(remove_stopwords_hindi)\n",
        "\n",
        "test_df['final_text'] = test_df['Clean Text']\n",
        "\n",
        "test_df.head(10)"
      ],
      "metadata": {
        "id": "TzvNnhBK5FRU",
        "colab": {
          "base_uri": "https://localhost:8080/",
          "height": 441
        },
        "outputId": "18884daf-3b43-4e04-bf3c-24cb60996086"
      },
      "execution_count": 23,
      "outputs": [
        {
          "output_type": "stream",
          "name": "stderr",
          "text": [
            "<ipython-input-23-8fdc1b2fe94a>:9: FutureWarning: The default value of regex will change from True to False in a future version.\n",
            "  test_df['Clean Text'] = test_df['Clean Text'].str.replace('\\d+',' ')\n"
          ]
        },
        {
          "output_type": "execute_result",
          "data": {
            "text/plain": [
              "   label                                               text  \\\n",
              "0      0  मैं ये नही सोच रहा की इसे निकले कैसे मैं ये सो...   \n",
              "1      1        और दिवाली में भी पूरा देश पड़ाका नहीं फोडात   \n",
              "2      1      कुत्ता बिल्ली पाल लेना मगर गलत फहमी कभी नहीं।   \n",
              "3      0      तेरी गांड में प्याज काट देगा गुज्जर भोसड़ी के   \n",
              "4      1            बंगाली साड़ी ऐसे नहीं पहना जाता है दीदी   \n",
              "5      1  ऐ इंडिया है यह आदमी दो बार जीता है  एक बार मरत...   \n",
              "6      1  अक्कड़ बक्कड़ बंबे बो  डीजल नब्बे पेट्रोल सौ  ...   \n",
              "7      1  एक तीर एक कमान आदिवासी एक समान एक तीर एक कमान ...   \n",
              "8      1  आपका बहुत बड़ा फैन हूं असद ओवैसी साहब मैं आपका...   \n",
              "9      0                          तुम सब चूतिया हो रोटी राम   \n",
              "\n",
              "                                          Clean Text  \\\n",
              "0  नही सोच निकले सोच फंसा कैसेface_with_tears_of_...   \n",
              "1                            दिवाली देश पड़ाका फोडात   \n",
              "2              कुत्ता बिल्ली पाल लेना गलत फहमी नहीं।   \n",
              "3             तेरी गांड प्याज काट देगा गुज्जर भोसड़ी   \n",
              "4                             बंगाली साड़ी पहना दीदी   \n",
              "5                            ऐ इंडिया आदमी जीता मरता   \n",
              "6  अक्कड़ बक्कड़ बंबे बो डीजल नब्बे पेट्रोल सौ सौ...   \n",
              "7  तीर कमान आदिवासी तीर कमान जय श्रीराम जय श्रीरा...   \n",
              "8        फैन असद ओवैसी साहब फैन मुजम्मिल थाली number   \n",
              "9                                 सब चूतिया रोटी राम   \n",
              "\n",
              "                                          final_text  \n",
              "0  नही सोच निकले सोच फंसा कैसेface_with_tears_of_...  \n",
              "1                            दिवाली देश पड़ाका फोडात  \n",
              "2              कुत्ता बिल्ली पाल लेना गलत फहमी नहीं।  \n",
              "3             तेरी गांड प्याज काट देगा गुज्जर भोसड़ी  \n",
              "4                             बंगाली साड़ी पहना दीदी  \n",
              "5                            ऐ इंडिया आदमी जीता मरता  \n",
              "6  अक्कड़ बक्कड़ बंबे बो डीजल नब्बे पेट्रोल सौ सौ...  \n",
              "7  तीर कमान आदिवासी तीर कमान जय श्रीराम जय श्रीरा...  \n",
              "8        फैन असद ओवैसी साहब फैन मुजम्मिल थाली number  \n",
              "9                                 सब चूतिया रोटी राम  "
            ],
            "text/html": [
              "\n",
              "  <div id=\"df-5d91fe3a-77d8-43ab-abb9-477a1e921914\">\n",
              "    <div class=\"colab-df-container\">\n",
              "      <div>\n",
              "<style scoped>\n",
              "    .dataframe tbody tr th:only-of-type {\n",
              "        vertical-align: middle;\n",
              "    }\n",
              "\n",
              "    .dataframe tbody tr th {\n",
              "        vertical-align: top;\n",
              "    }\n",
              "\n",
              "    .dataframe thead th {\n",
              "        text-align: right;\n",
              "    }\n",
              "</style>\n",
              "<table border=\"1\" class=\"dataframe\">\n",
              "  <thead>\n",
              "    <tr style=\"text-align: right;\">\n",
              "      <th></th>\n",
              "      <th>label</th>\n",
              "      <th>text</th>\n",
              "      <th>Clean Text</th>\n",
              "      <th>final_text</th>\n",
              "    </tr>\n",
              "  </thead>\n",
              "  <tbody>\n",
              "    <tr>\n",
              "      <th>0</th>\n",
              "      <td>0</td>\n",
              "      <td>मैं ये नही सोच रहा की इसे निकले कैसे मैं ये सो...</td>\n",
              "      <td>नही सोच निकले सोच फंसा कैसेface_with_tears_of_...</td>\n",
              "      <td>नही सोच निकले सोच फंसा कैसेface_with_tears_of_...</td>\n",
              "    </tr>\n",
              "    <tr>\n",
              "      <th>1</th>\n",
              "      <td>1</td>\n",
              "      <td>और दिवाली में भी पूरा देश पड़ाका नहीं फोडात</td>\n",
              "      <td>दिवाली देश पड़ाका फोडात</td>\n",
              "      <td>दिवाली देश पड़ाका फोडात</td>\n",
              "    </tr>\n",
              "    <tr>\n",
              "      <th>2</th>\n",
              "      <td>1</td>\n",
              "      <td>कुत्ता बिल्ली पाल लेना मगर गलत फहमी कभी नहीं।</td>\n",
              "      <td>कुत्ता बिल्ली पाल लेना गलत फहमी नहीं।</td>\n",
              "      <td>कुत्ता बिल्ली पाल लेना गलत फहमी नहीं।</td>\n",
              "    </tr>\n",
              "    <tr>\n",
              "      <th>3</th>\n",
              "      <td>0</td>\n",
              "      <td>तेरी गांड में प्याज काट देगा गुज्जर भोसड़ी के</td>\n",
              "      <td>तेरी गांड प्याज काट देगा गुज्जर भोसड़ी</td>\n",
              "      <td>तेरी गांड प्याज काट देगा गुज्जर भोसड़ी</td>\n",
              "    </tr>\n",
              "    <tr>\n",
              "      <th>4</th>\n",
              "      <td>1</td>\n",
              "      <td>बंगाली साड़ी ऐसे नहीं पहना जाता है दीदी</td>\n",
              "      <td>बंगाली साड़ी पहना दीदी</td>\n",
              "      <td>बंगाली साड़ी पहना दीदी</td>\n",
              "    </tr>\n",
              "    <tr>\n",
              "      <th>5</th>\n",
              "      <td>1</td>\n",
              "      <td>ऐ इंडिया है यह आदमी दो बार जीता है  एक बार मरत...</td>\n",
              "      <td>ऐ इंडिया आदमी जीता मरता</td>\n",
              "      <td>ऐ इंडिया आदमी जीता मरता</td>\n",
              "    </tr>\n",
              "    <tr>\n",
              "      <th>6</th>\n",
              "      <td>1</td>\n",
              "      <td>अक्कड़ बक्कड़ बंबे बो  डीजल नब्बे पेट्रोल सौ  ...</td>\n",
              "      <td>अक्कड़ बक्कड़ बंबे बो डीजल नब्बे पेट्रोल सौ सौ...</td>\n",
              "      <td>अक्कड़ बक्कड़ बंबे बो डीजल नब्बे पेट्रोल सौ सौ...</td>\n",
              "    </tr>\n",
              "    <tr>\n",
              "      <th>7</th>\n",
              "      <td>1</td>\n",
              "      <td>एक तीर एक कमान आदिवासी एक समान एक तीर एक कमान ...</td>\n",
              "      <td>तीर कमान आदिवासी तीर कमान जय श्रीराम जय श्रीरा...</td>\n",
              "      <td>तीर कमान आदिवासी तीर कमान जय श्रीराम जय श्रीरा...</td>\n",
              "    </tr>\n",
              "    <tr>\n",
              "      <th>8</th>\n",
              "      <td>1</td>\n",
              "      <td>आपका बहुत बड़ा फैन हूं असद ओवैसी साहब मैं आपका...</td>\n",
              "      <td>फैन असद ओवैसी साहब फैन मुजम्मिल थाली number</td>\n",
              "      <td>फैन असद ओवैसी साहब फैन मुजम्मिल थाली number</td>\n",
              "    </tr>\n",
              "    <tr>\n",
              "      <th>9</th>\n",
              "      <td>0</td>\n",
              "      <td>तुम सब चूतिया हो रोटी राम</td>\n",
              "      <td>सब चूतिया रोटी राम</td>\n",
              "      <td>सब चूतिया रोटी राम</td>\n",
              "    </tr>\n",
              "  </tbody>\n",
              "</table>\n",
              "</div>\n",
              "      <button class=\"colab-df-convert\" onclick=\"convertToInteractive('df-5d91fe3a-77d8-43ab-abb9-477a1e921914')\"\n",
              "              title=\"Convert this dataframe to an interactive table.\"\n",
              "              style=\"display:none;\">\n",
              "        \n",
              "  <svg xmlns=\"http://www.w3.org/2000/svg\" height=\"24px\"viewBox=\"0 0 24 24\"\n",
              "       width=\"24px\">\n",
              "    <path d=\"M0 0h24v24H0V0z\" fill=\"none\"/>\n",
              "    <path d=\"M18.56 5.44l.94 2.06.94-2.06 2.06-.94-2.06-.94-.94-2.06-.94 2.06-2.06.94zm-11 1L8.5 8.5l.94-2.06 2.06-.94-2.06-.94L8.5 2.5l-.94 2.06-2.06.94zm10 10l.94 2.06.94-2.06 2.06-.94-2.06-.94-.94-2.06-.94 2.06-2.06.94z\"/><path d=\"M17.41 7.96l-1.37-1.37c-.4-.4-.92-.59-1.43-.59-.52 0-1.04.2-1.43.59L10.3 9.45l-7.72 7.72c-.78.78-.78 2.05 0 2.83L4 21.41c.39.39.9.59 1.41.59.51 0 1.02-.2 1.41-.59l7.78-7.78 2.81-2.81c.8-.78.8-2.07 0-2.86zM5.41 20L4 18.59l7.72-7.72 1.47 1.35L5.41 20z\"/>\n",
              "  </svg>\n",
              "      </button>\n",
              "      \n",
              "  <style>\n",
              "    .colab-df-container {\n",
              "      display:flex;\n",
              "      flex-wrap:wrap;\n",
              "      gap: 12px;\n",
              "    }\n",
              "\n",
              "    .colab-df-convert {\n",
              "      background-color: #E8F0FE;\n",
              "      border: none;\n",
              "      border-radius: 50%;\n",
              "      cursor: pointer;\n",
              "      display: none;\n",
              "      fill: #1967D2;\n",
              "      height: 32px;\n",
              "      padding: 0 0 0 0;\n",
              "      width: 32px;\n",
              "    }\n",
              "\n",
              "    .colab-df-convert:hover {\n",
              "      background-color: #E2EBFA;\n",
              "      box-shadow: 0px 1px 2px rgba(60, 64, 67, 0.3), 0px 1px 3px 1px rgba(60, 64, 67, 0.15);\n",
              "      fill: #174EA6;\n",
              "    }\n",
              "\n",
              "    [theme=dark] .colab-df-convert {\n",
              "      background-color: #3B4455;\n",
              "      fill: #D2E3FC;\n",
              "    }\n",
              "\n",
              "    [theme=dark] .colab-df-convert:hover {\n",
              "      background-color: #434B5C;\n",
              "      box-shadow: 0px 1px 3px 1px rgba(0, 0, 0, 0.15);\n",
              "      filter: drop-shadow(0px 1px 2px rgba(0, 0, 0, 0.3));\n",
              "      fill: #FFFFFF;\n",
              "    }\n",
              "  </style>\n",
              "\n",
              "      <script>\n",
              "        const buttonEl =\n",
              "          document.querySelector('#df-5d91fe3a-77d8-43ab-abb9-477a1e921914 button.colab-df-convert');\n",
              "        buttonEl.style.display =\n",
              "          google.colab.kernel.accessAllowed ? 'block' : 'none';\n",
              "\n",
              "        async function convertToInteractive(key) {\n",
              "          const element = document.querySelector('#df-5d91fe3a-77d8-43ab-abb9-477a1e921914');\n",
              "          const dataTable =\n",
              "            await google.colab.kernel.invokeFunction('convertToInteractive',\n",
              "                                                     [key], {});\n",
              "          if (!dataTable) return;\n",
              "\n",
              "          const docLinkHtml = 'Like what you see? Visit the ' +\n",
              "            '<a target=\"_blank\" href=https://colab.research.google.com/notebooks/data_table.ipynb>data table notebook</a>'\n",
              "            + ' to learn more about interactive tables.';\n",
              "          element.innerHTML = '';\n",
              "          dataTable['output_type'] = 'display_data';\n",
              "          await google.colab.output.renderOutput(dataTable, element);\n",
              "          const docLink = document.createElement('div');\n",
              "          docLink.innerHTML = docLinkHtml;\n",
              "          element.appendChild(docLink);\n",
              "        }\n",
              "      </script>\n",
              "    </div>\n",
              "  </div>\n",
              "  "
            ]
          },
          "metadata": {},
          "execution_count": 23
        }
      ]
    },
    {
      "cell_type": "code",
      "source": [],
      "metadata": {
        "id": "Xe3fcH2BcjR4"
      },
      "execution_count": null,
      "outputs": []
    },
    {
      "cell_type": "code",
      "source": [
        "import pickle\n",
        "# KNN\n",
        "# Data preparation\n",
        "def testKNN(testdf):\n",
        "  # Load the saved model from .pkl file\n",
        "  with open('/content/drive/MyDrive/Colab Notebooks/models/knnpickle_file', 'rb') as file:\n",
        "      knn_model = pickle.load(file)\n",
        "\n",
        "  # vectorizer = TfidfVectorizer(sublinear_tf=True, smooth_idf=True)\n",
        "  test_X = vectorizer.transform(testdf['final_text'])\n",
        "\n",
        "  # Convert labels to NumPy arrays\n",
        "  test_y = np.array(testdf['label'])\n",
        "  # Make predictions on test dataset using the loaded model\n",
        "  y_pred = knn_model.predict(test_X)\n",
        "\n",
        "  # Evaluate KNN model on the validation set\n",
        "  print(classification_report(test_y, y_pred))  \n",
        "\n",
        "testKNN(test_df)"
      ],
      "metadata": {
        "id": "HkqZPT1V47Dh",
        "colab": {
          "base_uri": "https://localhost:8080/"
        },
        "outputId": "ac8ae059-b2c7-41e2-85ee-14c73bdcd01c"
      },
      "execution_count": 24,
      "outputs": [
        {
          "output_type": "stream",
          "name": "stdout",
          "text": [
            "              precision    recall  f1-score   support\n",
            "\n",
            "           0       0.61      0.87      0.72      3496\n",
            "           1       0.74      0.40      0.52      3232\n",
            "\n",
            "    accuracy                           0.64      6728\n",
            "   macro avg       0.68      0.63      0.62      6728\n",
            "weighted avg       0.67      0.64      0.62      6728\n",
            "\n"
          ]
        }
      ]
    },
    {
      "cell_type": "code",
      "source": [
        "def print_intersection_points(train_df, val_df, new_testdf):\n",
        "  # Extract the column of interest from training and test dataframes\n",
        "  train_col = set(train_df[\"text\"])\n",
        "  test_col = set(new_testdf[\"text\"])\n",
        "\n",
        "  # Count the number of common rows between the two dataframes\n",
        "  common_rows = len(train_col.intersection(test_col))\n",
        "  print(\"Number of common rows between train and test:\", common_rows)\n",
        "\n",
        "  # Extract the column of interest from validation and test dataframes\n",
        "  valid_col = set(val_df[\"text\"])\n",
        "\n",
        "  # Count the number of common rows between the two dataframes\n",
        "  common_rows = len(valid_col.intersection(test_col))\n",
        "  print(\"Number of common rows between validation and test:\", common_rows)"
      ],
      "metadata": {
        "id": "cgQotgv-C488"
      },
      "execution_count": 20,
      "outputs": []
    },
    {
      "cell_type": "code",
      "source": [
        "print_intersection_points(train_df, val_df, test_df)"
      ],
      "metadata": {
        "colab": {
          "base_uri": "https://localhost:8080/"
        },
        "id": "d7SpDypTdfdH",
        "outputId": "1ab39cf7-ac0c-4e5e-9f5e-da6b32cc0bb3"
      },
      "execution_count": 21,
      "outputs": [
        {
          "output_type": "stream",
          "name": "stdout",
          "text": [
            "Number of common rows between train and test: 0\n",
            "Number of common rows between validation and test: 0\n"
          ]
        }
      ]
    }
  ]
}